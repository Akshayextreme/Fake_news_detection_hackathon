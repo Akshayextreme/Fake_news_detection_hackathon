{
  "nbformat": 4,
  "nbformat_minor": 0,
  "metadata": {
    "colab": {
      "name": "Fake_news_detection.ipynb",
      "provenance": [],
      "authorship_tag": "ABX9TyOshAWqEft/wbEjHIqdnnCX",
      "include_colab_link": true
    },
    "kernelspec": {
      "name": "python3",
      "display_name": "Python 3"
    },
    "accelerator": "GPU"
  },
  "cells": [
    {
      "cell_type": "markdown",
      "metadata": {
        "id": "view-in-github",
        "colab_type": "text"
      },
      "source": [
        "<a href=\"https://colab.research.google.com/github/Akshayextreme/Fake_news_detection_hackathon/blob/master/Fake_news_detection.ipynb\" target=\"_parent\"><img src=\"https://colab.research.google.com/assets/colab-badge.svg\" alt=\"Open In Colab\"/></a>"
      ]
    },
    {
      "cell_type": "code",
      "metadata": {
        "id": "Qpx5UPKH-q2y",
        "colab_type": "code",
        "colab": {}
      },
      "source": [
        "!pip install transformers"
      ],
      "execution_count": null,
      "outputs": []
    },
    {
      "cell_type": "code",
      "metadata": {
        "id": "0Jm7vno3-2NC",
        "colab_type": "code",
        "colab": {}
      },
      "source": [
        "import numpy as np\n",
        "import pandas as pd\n",
        "from sklearn import metrics\n",
        "import transformers\n",
        "import torch\n",
        "from torch.utils.data import Dataset, DataLoader\n",
        "\n",
        "from transformers import DistilBertForSequenceClassification, DistilBertTokenizer\n",
        "from transformers import BertForSequenceClassification, BertTokenizer"
      ],
      "execution_count": 2,
      "outputs": []
    },
    {
      "cell_type": "markdown",
      "metadata": {
        "id": "vfxh3x5fPdEZ",
        "colab_type": "text"
      },
      "source": [
        "## Data & EDA"
      ]
    },
    {
      "cell_type": "code",
      "metadata": {
        "id": "NpE-Mz8Z_HLS",
        "colab_type": "code",
        "colab": {}
      },
      "source": [
        "from torch import cuda\n",
        "device = 'cuda' if cuda.is_available() else 'cpu'"
      ],
      "execution_count": 3,
      "outputs": []
    },
    {
      "cell_type": "code",
      "metadata": {
        "id": "_TT_2fgJ_aI7",
        "colab_type": "code",
        "colab": {}
      },
      "source": [
        "df = pd.read_csv('Train.csv')"
      ],
      "execution_count": 4,
      "outputs": []
    },
    {
      "cell_type": "code",
      "metadata": {
        "id": "qIs0qgUN_e9x",
        "colab_type": "code",
        "colab": {
          "base_uri": "https://localhost:8080/",
          "height": 191
        },
        "outputId": "7d9a6839-d1f9-4758-cef5-a20fdc921288"
      },
      "source": [
        "df.head()"
      ],
      "execution_count": 5,
      "outputs": [
        {
          "output_type": "execute_result",
          "data": {
            "text/html": [
              "<div>\n",
              "<style scoped>\n",
              "    .dataframe tbody tr th:only-of-type {\n",
              "        vertical-align: middle;\n",
              "    }\n",
              "\n",
              "    .dataframe tbody tr th {\n",
              "        vertical-align: top;\n",
              "    }\n",
              "\n",
              "    .dataframe thead th {\n",
              "        text-align: right;\n",
              "    }\n",
              "</style>\n",
              "<table border=\"1\" class=\"dataframe\">\n",
              "  <thead>\n",
              "    <tr style=\"text-align: right;\">\n",
              "      <th></th>\n",
              "      <th>Labels</th>\n",
              "      <th>Text</th>\n",
              "      <th>Text_Tag</th>\n",
              "    </tr>\n",
              "  </thead>\n",
              "  <tbody>\n",
              "    <tr>\n",
              "      <th>0</th>\n",
              "      <td>1</td>\n",
              "      <td>Says the Annies List political group supports ...</td>\n",
              "      <td>abortion</td>\n",
              "    </tr>\n",
              "    <tr>\n",
              "      <th>1</th>\n",
              "      <td>2</td>\n",
              "      <td>When did the decline of coal start? It started...</td>\n",
              "      <td>energy,history,job-accomplishments</td>\n",
              "    </tr>\n",
              "    <tr>\n",
              "      <th>2</th>\n",
              "      <td>3</td>\n",
              "      <td>Hillary Clinton agrees with John McCain \"by vo...</td>\n",
              "      <td>foreign-policy</td>\n",
              "    </tr>\n",
              "    <tr>\n",
              "      <th>3</th>\n",
              "      <td>1</td>\n",
              "      <td>Health care reform legislation is likely to ma...</td>\n",
              "      <td>health-care</td>\n",
              "    </tr>\n",
              "    <tr>\n",
              "      <th>4</th>\n",
              "      <td>2</td>\n",
              "      <td>The economic turnaround started at the end of ...</td>\n",
              "      <td>economy,jobs</td>\n",
              "    </tr>\n",
              "  </tbody>\n",
              "</table>\n",
              "</div>"
            ],
            "text/plain": [
              "   Labels  ...                            Text_Tag\n",
              "0       1  ...                            abortion\n",
              "1       2  ...  energy,history,job-accomplishments\n",
              "2       3  ...                      foreign-policy\n",
              "3       1  ...                         health-care\n",
              "4       2  ...                        economy,jobs\n",
              "\n",
              "[5 rows x 3 columns]"
            ]
          },
          "metadata": {
            "tags": []
          },
          "execution_count": 5
        }
      ]
    },
    {
      "cell_type": "code",
      "metadata": {
        "id": "O3G3pi5BgEsa",
        "colab_type": "code",
        "colab": {
          "base_uri": "https://localhost:8080/",
          "height": 83
        },
        "outputId": "c48d4236-6564-47e2-f175-c965e129c668"
      },
      "source": [
        "df.isnull().sum()"
      ],
      "execution_count": 6,
      "outputs": [
        {
          "output_type": "execute_result",
          "data": {
            "text/plain": [
              "Labels      0\n",
              "Text        0\n",
              "Text_Tag    2\n",
              "dtype: int64"
            ]
          },
          "metadata": {
            "tags": []
          },
          "execution_count": 6
        }
      ]
    },
    {
      "cell_type": "code",
      "metadata": {
        "id": "6A3N4fhugI5i",
        "colab_type": "code",
        "colab": {}
      },
      "source": [
        "df.Text_Tag.fillna('Not Available', inplace=True)"
      ],
      "execution_count": 7,
      "outputs": []
    },
    {
      "cell_type": "code",
      "metadata": {
        "id": "ZwrdsFaxdbQa",
        "colab_type": "code",
        "colab": {}
      },
      "source": [
        "df['Text_Tag'] = df.Text_Tag.str.replace(\",\", \" \")"
      ],
      "execution_count": 8,
      "outputs": []
    },
    {
      "cell_type": "markdown",
      "metadata": {
        "id": "8OAEkcKfXv7k",
        "colab_type": "text"
      },
      "source": [
        "We try 3 approaches here for handling TEXT_TAG column\n",
        "- Approach A : Neglect it\n",
        "- Approach B : Consider it as a second sentence while giving input to BERT (For this change Dataset class)\n",
        "- Approach C : Concanate it with TEXT column"
      ]
    },
    {
      "cell_type": "code",
      "metadata": {
        "id": "lgAXe5YoxU7-",
        "colab_type": "code",
        "colab": {}
      },
      "source": [
        "# Approach C\n",
        "# df['Text'] = df['Text'] + df['Text_Tag']"
      ],
      "execution_count": null,
      "outputs": []
    },
    {
      "cell_type": "code",
      "metadata": {
        "id": "DMmLt4vyPHOi",
        "colab_type": "code",
        "colab": {}
      },
      "source": [
        "tokenizer = DistilBertTokenizer.from_pretrained('distilbert-base-uncased')\n",
        "# tokenizer = BertTokenizer.from_pretrained('bert-base-uncased')"
      ],
      "execution_count": 99,
      "outputs": []
    },
    {
      "cell_type": "code",
      "metadata": {
        "id": "CGXMkjXmQeDR",
        "colab_type": "code",
        "colab": {}
      },
      "source": [
        "def leng_txt(x):\n",
        "    in_ids = tokenizer.encode(x, add_special_tokens=True)\n",
        "    return len(in_ids)"
      ],
      "execution_count": 77,
      "outputs": []
    },
    {
      "cell_type": "code",
      "metadata": {
        "id": "0UgBwi6UQL2v",
        "colab_type": "code",
        "colab": {
          "base_uri": "https://localhost:8080/",
          "height": 53
        },
        "outputId": "423f69d0-e64b-4465-ebfd-d736a30a672f"
      },
      "source": [
        "df['length'] = df.Text.apply(leng_txt)"
      ],
      "execution_count": 78,
      "outputs": [
        {
          "output_type": "stream",
          "text": [
            "Token indices sequence length is longer than the specified maximum sequence length for this model (712 > 512). Running this sequence through the model will result in indexing errors\n"
          ],
          "name": "stderr"
        }
      ]
    },
    {
      "cell_type": "code",
      "metadata": {
        "id": "ZTm_0p2CRmvU",
        "colab_type": "code",
        "colab": {
          "base_uri": "https://localhost:8080/",
          "height": 33
        },
        "outputId": "e1fe3023-c555-475c-f86d-62d22387469b"
      },
      "source": [
        "df.length.quantile(0.95)"
      ],
      "execution_count": 79,
      "outputs": [
        {
          "output_type": "execute_result",
          "data": {
            "text/plain": [
              "42.0"
            ]
          },
          "metadata": {
            "tags": []
          },
          "execution_count": 79
        }
      ]
    },
    {
      "cell_type": "code",
      "metadata": {
        "id": "YoTGBbdVTY7f",
        "colab_type": "code",
        "colab": {
          "base_uri": "https://localhost:8080/",
          "height": 33
        },
        "outputId": "e047946d-e4c0-4ad1-cae7-5ab2899f9d0e"
      },
      "source": [
        "df.length.median()"
      ],
      "execution_count": 80,
      "outputs": [
        {
          "output_type": "execute_result",
          "data": {
            "text/plain": [
              "22.0"
            ]
          },
          "metadata": {
            "tags": []
          },
          "execution_count": 80
        }
      ]
    },
    {
      "cell_type": "code",
      "metadata": {
        "id": "TlggE33L_gHX",
        "colab_type": "code",
        "colab": {}
      },
      "source": [
        "MAX_LEN = 50\n",
        "TRAIN_BATCH_SIZE = 64\n",
        "VALID_BATCH_SIZE = 32\n",
        "LEARNING_RATE = 1e-05"
      ],
      "execution_count": 81,
      "outputs": []
    },
    {
      "cell_type": "code",
      "metadata": {
        "id": "eWd8Hk4I_0mv",
        "colab_type": "code",
        "colab": {}
      },
      "source": [
        "class CustomDataset(Dataset):\n",
        "    def __init__(self, dataframe, tokenizer, max_len):\n",
        "        self.data = dataframe\n",
        "        self.text = dataframe.Text\n",
        "        # Approach B\n",
        "        #self.text_tag = dataframe.Text_Tag\n",
        "        self.targets = dataframe.Labels\n",
        "        self.tokenizer = tokenizer\n",
        "        self.max_len = max_len\n",
        "    \n",
        "    def __len__(self):\n",
        "        return len(self.text)\n",
        "\n",
        "    def __getitem__(self, idx):\n",
        "        text = str(self.text[idx])\n",
        "        text = \" \".join(text.split())\n",
        "\n",
        "        # Approach B\n",
        "        #text_tag = str(self.text_tag[idx])\n",
        "\n",
        "        inputs = self.tokenizer.encode_plus(\n",
        "            text,\n",
        "            # Approach B\n",
        "            None,#text_tag,\n",
        "            max_length=self.max_len,\n",
        "            padding='max_length',\n",
        "            return_token_type_ids=True,\n",
        "            truncation=True\n",
        "        )\n",
        "        ids = inputs['input_ids']\n",
        "        mask = inputs['attention_mask']\n",
        "        token_type_ids = inputs[\"token_type_ids\"]\n",
        "\n",
        "\n",
        "        return {\n",
        "            'ids': torch.tensor(ids, dtype=torch.long),\n",
        "            'mask': torch.tensor(mask, dtype=torch.long),\n",
        "            'token_type_ids': torch.tensor(token_type_ids, dtype=torch.long),\n",
        "            'targets': torch.tensor(self.targets[idx], dtype=torch.long)\n",
        "        }"
      ],
      "execution_count": 112,
      "outputs": []
    },
    {
      "cell_type": "code",
      "metadata": {
        "id": "8cdVSfPHFN05",
        "colab_type": "code",
        "colab": {
          "base_uri": "https://localhost:8080/",
          "height": 67
        },
        "outputId": "b70172c1-1bfe-493b-c3ca-a560aac888e7"
      },
      "source": [
        "train_size = 0.8\n",
        "train_dataset=df.sample(frac=train_size,random_state=648)\n",
        "val_dataset=df.drop(train_dataset.index).reset_index(drop=True)\n",
        "train_dataset = train_dataset.reset_index(drop=True)\n",
        "\n",
        "\n",
        "print(\"FULL Dataset: {}\".format(df.shape))\n",
        "print(\"TRAIN Dataset: {}\".format(train_dataset.shape))\n",
        "print(\"TEST Dataset: {}\".format(val_dataset.shape))\n",
        "\n",
        "training_set = CustomDataset(train_dataset, tokenizer, MAX_LEN)\n",
        "validation_set = CustomDataset(val_dataset, tokenizer, MAX_LEN)"
      ],
      "execution_count": 113,
      "outputs": [
        {
          "output_type": "stream",
          "text": [
            "FULL Dataset: (10240, 4)\n",
            "TRAIN Dataset: (8192, 4)\n",
            "TEST Dataset: (2048, 4)\n"
          ],
          "name": "stdout"
        }
      ]
    },
    {
      "cell_type": "code",
      "metadata": {
        "id": "ExQi4O0cIM88",
        "colab_type": "code",
        "colab": {}
      },
      "source": [
        "train_params = {'batch_size': TRAIN_BATCH_SIZE,\n",
        "                'shuffle': True,\n",
        "                'num_workers': 4\n",
        "                }\n",
        "\n",
        "test_params = {'batch_size': VALID_BATCH_SIZE,\n",
        "                'shuffle': True,\n",
        "                'num_workers': 4\n",
        "                }\n",
        "\n",
        "training_loader = DataLoader(training_set, **train_params)\n",
        "validation_loader = DataLoader(validation_set, **test_params)"
      ],
      "execution_count": 114,
      "outputs": []
    },
    {
      "cell_type": "markdown",
      "metadata": {
        "id": "Uy2xJcK7PqDX",
        "colab_type": "text"
      },
      "source": [
        "## DistilBert / BERT - Sequence Classifier"
      ]
    },
    {
      "cell_type": "code",
      "metadata": {
        "id": "lruZkXBgv0S0",
        "colab_type": "code",
        "colab": {
          "base_uri": "https://localhost:8080/",
          "height": 1000
        },
        "outputId": "f2dfad79-32f0-4489-c809-a564256729af"
      },
      "source": [
        "# DistilBert\n",
        "model = DistilBertForSequenceClassification.from_pretrained(\n",
        "    \"distilbert-base-uncased\",\n",
        "    num_labels = 6,\n",
        "    output_attentions = False,\n",
        "    output_hidden_states = False,\n",
        ")\n",
        "\n",
        "# Tell pytorch to run this model on the GPU.\n",
        "model.to(device)"
      ],
      "execution_count": 115,
      "outputs": [
        {
          "output_type": "stream",
          "text": [
            "Some weights of the model checkpoint at distilbert-base-uncased were not used when initializing DistilBertForSequenceClassification: ['vocab_transform.weight', 'vocab_transform.bias', 'vocab_layer_norm.weight', 'vocab_layer_norm.bias', 'vocab_projector.weight', 'vocab_projector.bias']\n",
            "- This IS expected if you are initializing DistilBertForSequenceClassification from the checkpoint of a model trained on another task or with another architecture (e.g. initializing a BertForSequenceClassification model from a BertForPretraining model).\n",
            "- This IS NOT expected if you are initializing DistilBertForSequenceClassification from the checkpoint of a model that you expect to be exactly identical (initializing a BertForSequenceClassification model from a BertForSequenceClassification model).\n",
            "Some weights of DistilBertForSequenceClassification were not initialized from the model checkpoint at distilbert-base-uncased and are newly initialized: ['pre_classifier.weight', 'pre_classifier.bias', 'classifier.weight', 'classifier.bias']\n",
            "You should probably TRAIN this model on a down-stream task to be able to use it for predictions and inference.\n"
          ],
          "name": "stderr"
        },
        {
          "output_type": "execute_result",
          "data": {
            "text/plain": [
              "DistilBertForSequenceClassification(\n",
              "  (distilbert): DistilBertModel(\n",
              "    (embeddings): Embeddings(\n",
              "      (word_embeddings): Embedding(30522, 768, padding_idx=0)\n",
              "      (position_embeddings): Embedding(512, 768)\n",
              "      (LayerNorm): LayerNorm((768,), eps=1e-12, elementwise_affine=True)\n",
              "      (dropout): Dropout(p=0.1, inplace=False)\n",
              "    )\n",
              "    (transformer): Transformer(\n",
              "      (layer): ModuleList(\n",
              "        (0): TransformerBlock(\n",
              "          (attention): MultiHeadSelfAttention(\n",
              "            (dropout): Dropout(p=0.1, inplace=False)\n",
              "            (q_lin): Linear(in_features=768, out_features=768, bias=True)\n",
              "            (k_lin): Linear(in_features=768, out_features=768, bias=True)\n",
              "            (v_lin): Linear(in_features=768, out_features=768, bias=True)\n",
              "            (out_lin): Linear(in_features=768, out_features=768, bias=True)\n",
              "          )\n",
              "          (sa_layer_norm): LayerNorm((768,), eps=1e-12, elementwise_affine=True)\n",
              "          (ffn): FFN(\n",
              "            (dropout): Dropout(p=0.1, inplace=False)\n",
              "            (lin1): Linear(in_features=768, out_features=3072, bias=True)\n",
              "            (lin2): Linear(in_features=3072, out_features=768, bias=True)\n",
              "          )\n",
              "          (output_layer_norm): LayerNorm((768,), eps=1e-12, elementwise_affine=True)\n",
              "        )\n",
              "        (1): TransformerBlock(\n",
              "          (attention): MultiHeadSelfAttention(\n",
              "            (dropout): Dropout(p=0.1, inplace=False)\n",
              "            (q_lin): Linear(in_features=768, out_features=768, bias=True)\n",
              "            (k_lin): Linear(in_features=768, out_features=768, bias=True)\n",
              "            (v_lin): Linear(in_features=768, out_features=768, bias=True)\n",
              "            (out_lin): Linear(in_features=768, out_features=768, bias=True)\n",
              "          )\n",
              "          (sa_layer_norm): LayerNorm((768,), eps=1e-12, elementwise_affine=True)\n",
              "          (ffn): FFN(\n",
              "            (dropout): Dropout(p=0.1, inplace=False)\n",
              "            (lin1): Linear(in_features=768, out_features=3072, bias=True)\n",
              "            (lin2): Linear(in_features=3072, out_features=768, bias=True)\n",
              "          )\n",
              "          (output_layer_norm): LayerNorm((768,), eps=1e-12, elementwise_affine=True)\n",
              "        )\n",
              "        (2): TransformerBlock(\n",
              "          (attention): MultiHeadSelfAttention(\n",
              "            (dropout): Dropout(p=0.1, inplace=False)\n",
              "            (q_lin): Linear(in_features=768, out_features=768, bias=True)\n",
              "            (k_lin): Linear(in_features=768, out_features=768, bias=True)\n",
              "            (v_lin): Linear(in_features=768, out_features=768, bias=True)\n",
              "            (out_lin): Linear(in_features=768, out_features=768, bias=True)\n",
              "          )\n",
              "          (sa_layer_norm): LayerNorm((768,), eps=1e-12, elementwise_affine=True)\n",
              "          (ffn): FFN(\n",
              "            (dropout): Dropout(p=0.1, inplace=False)\n",
              "            (lin1): Linear(in_features=768, out_features=3072, bias=True)\n",
              "            (lin2): Linear(in_features=3072, out_features=768, bias=True)\n",
              "          )\n",
              "          (output_layer_norm): LayerNorm((768,), eps=1e-12, elementwise_affine=True)\n",
              "        )\n",
              "        (3): TransformerBlock(\n",
              "          (attention): MultiHeadSelfAttention(\n",
              "            (dropout): Dropout(p=0.1, inplace=False)\n",
              "            (q_lin): Linear(in_features=768, out_features=768, bias=True)\n",
              "            (k_lin): Linear(in_features=768, out_features=768, bias=True)\n",
              "            (v_lin): Linear(in_features=768, out_features=768, bias=True)\n",
              "            (out_lin): Linear(in_features=768, out_features=768, bias=True)\n",
              "          )\n",
              "          (sa_layer_norm): LayerNorm((768,), eps=1e-12, elementwise_affine=True)\n",
              "          (ffn): FFN(\n",
              "            (dropout): Dropout(p=0.1, inplace=False)\n",
              "            (lin1): Linear(in_features=768, out_features=3072, bias=True)\n",
              "            (lin2): Linear(in_features=3072, out_features=768, bias=True)\n",
              "          )\n",
              "          (output_layer_norm): LayerNorm((768,), eps=1e-12, elementwise_affine=True)\n",
              "        )\n",
              "        (4): TransformerBlock(\n",
              "          (attention): MultiHeadSelfAttention(\n",
              "            (dropout): Dropout(p=0.1, inplace=False)\n",
              "            (q_lin): Linear(in_features=768, out_features=768, bias=True)\n",
              "            (k_lin): Linear(in_features=768, out_features=768, bias=True)\n",
              "            (v_lin): Linear(in_features=768, out_features=768, bias=True)\n",
              "            (out_lin): Linear(in_features=768, out_features=768, bias=True)\n",
              "          )\n",
              "          (sa_layer_norm): LayerNorm((768,), eps=1e-12, elementwise_affine=True)\n",
              "          (ffn): FFN(\n",
              "            (dropout): Dropout(p=0.1, inplace=False)\n",
              "            (lin1): Linear(in_features=768, out_features=3072, bias=True)\n",
              "            (lin2): Linear(in_features=3072, out_features=768, bias=True)\n",
              "          )\n",
              "          (output_layer_norm): LayerNorm((768,), eps=1e-12, elementwise_affine=True)\n",
              "        )\n",
              "        (5): TransformerBlock(\n",
              "          (attention): MultiHeadSelfAttention(\n",
              "            (dropout): Dropout(p=0.1, inplace=False)\n",
              "            (q_lin): Linear(in_features=768, out_features=768, bias=True)\n",
              "            (k_lin): Linear(in_features=768, out_features=768, bias=True)\n",
              "            (v_lin): Linear(in_features=768, out_features=768, bias=True)\n",
              "            (out_lin): Linear(in_features=768, out_features=768, bias=True)\n",
              "          )\n",
              "          (sa_layer_norm): LayerNorm((768,), eps=1e-12, elementwise_affine=True)\n",
              "          (ffn): FFN(\n",
              "            (dropout): Dropout(p=0.1, inplace=False)\n",
              "            (lin1): Linear(in_features=768, out_features=3072, bias=True)\n",
              "            (lin2): Linear(in_features=3072, out_features=768, bias=True)\n",
              "          )\n",
              "          (output_layer_norm): LayerNorm((768,), eps=1e-12, elementwise_affine=True)\n",
              "        )\n",
              "      )\n",
              "    )\n",
              "  )\n",
              "  (pre_classifier): Linear(in_features=768, out_features=768, bias=True)\n",
              "  (classifier): Linear(in_features=768, out_features=6, bias=True)\n",
              "  (dropout): Dropout(p=0.2, inplace=False)\n",
              ")"
            ]
          },
          "metadata": {
            "tags": []
          },
          "execution_count": 115
        }
      ]
    },
    {
      "cell_type": "code",
      "metadata": {
        "id": "XaWvJ3QQCEyX",
        "colab_type": "code",
        "colab": {}
      },
      "source": [
        "# # BERT\n",
        "# model = BertForSequenceClassification.from_pretrained(\n",
        "#     \"bert-base-uncased\",\n",
        "#     num_labels = 6,\n",
        "#     output_attentions = False,\n",
        "#     output_hidden_states = False,\n",
        "# )\n",
        "\n",
        "# # Tell pytorch to run this model on the GPU.\n",
        "# model.to(device)"
      ],
      "execution_count": 116,
      "outputs": []
    },
    {
      "cell_type": "code",
      "metadata": {
        "id": "lNJr9cVRH_lO",
        "colab_type": "code",
        "colab": {}
      },
      "source": [
        "optimizer = torch.optim.Adam(params =  model.parameters(), lr=LEARNING_RATE)"
      ],
      "execution_count": 117,
      "outputs": []
    },
    {
      "cell_type": "code",
      "metadata": {
        "id": "w82Ny6wewdLP",
        "colab_type": "code",
        "colab": {}
      },
      "source": [
        "from transformers import get_linear_schedule_with_warmup\n",
        "EPOCHS = 30\n",
        "total_steps = len(training_loader) * EPOCHS\n",
        "# Create the learning rate scheduler.\n",
        "scheduler = get_linear_schedule_with_warmup(optimizer, \n",
        "                                            num_warmup_steps = 0,\n",
        "                                            num_training_steps = total_steps)"
      ],
      "execution_count": 118,
      "outputs": []
    },
    {
      "cell_type": "code",
      "metadata": {
        "id": "mJJXQ444ICmy",
        "colab_type": "code",
        "colab": {}
      },
      "source": [
        "def train(epoch):\n",
        "    model.train()\n",
        "    running_loss = 0.0\n",
        "    running_corrects = 0\n",
        "\n",
        "    for i, data in enumerate(training_loader, 0):\n",
        "        ids = data['ids'].to(device, dtype = torch.long)\n",
        "        mask = data['mask'].to(device, dtype = torch.long)\n",
        "        token_type_ids = data['token_type_ids'].to(device, dtype = torch.long)\n",
        "        targets = data['targets'].to(device, dtype = torch.long)\n",
        "\n",
        "        loss, outputs = model(ids, mask, labels=targets) # DistilBert\n",
        "        # loss, outputs = model(ids, mask, token_type_ids, labels=targets) #Bert\n",
        "        preds = torch.argmax(outputs, 1)\n",
        "\n",
        "        optimizer.zero_grad()\n",
        "\n",
        "        #Statistics\n",
        "        running_loss += loss.item()\n",
        "        running_corrects += torch.sum(preds == targets.data)\n",
        "        \n",
        "        optimizer.zero_grad()\n",
        "        loss.backward()\n",
        "\n",
        "        # Clip the norm of the gradients to 1.0.\n",
        "        # This is to help prevent the \"exploding gradients\" problem.\n",
        "        torch.nn.utils.clip_grad_norm_(model.parameters(), 1.0)\n",
        "        optimizer.step()\n",
        "\n",
        "        # Update the learning rate.\n",
        "        scheduler.step()\n",
        "\n",
        "    epoch_loss = running_loss / training_set.__len__()\n",
        "    epoch_acc = running_corrects.double() / training_set.__len__()\n",
        "    print(f'Train -> Epoch: {epoch}, Loss: {epoch_loss}, Accuracy: {epoch_acc}')"
      ],
      "execution_count": 119,
      "outputs": []
    },
    {
      "cell_type": "code",
      "metadata": {
        "id": "cBrqrV2nJdyM",
        "colab_type": "code",
        "colab": {}
      },
      "source": [
        "def validation(epoch):\n",
        "    model.eval()\n",
        "    running_loss = 0.0\n",
        "    log_loss = 0.0\n",
        "    running_corrects = 0\n",
        "\n",
        "    with torch.no_grad():\n",
        "        for _, data in enumerate(validation_loader, 0):\n",
        "            ids = data['ids'].to(device, dtype = torch.long)\n",
        "            mask = data['mask'].to(device, dtype = torch.long)\n",
        "            token_type_ids = data['token_type_ids'].to(device, dtype = torch.long)\n",
        "            targets = data['targets'].to(device, dtype = torch.long)\n",
        "\n",
        "            loss, outputs = model(ids, mask, labels=targets) #DistilBert\n",
        "            # loss, outputs = model(ids, mask, token_type_ids, labels=targets) #Bert\n",
        "            preds = torch.argmax(outputs, 1)\n",
        "\n",
        "            running_loss += loss.item()\n",
        "            running_corrects += torch.sum(preds == targets.data)\n",
        "        \n",
        "        epoch_loss = running_loss / validation_set.__len__()\n",
        "        epoch_acc = running_corrects.double() / validation_set.__len__()\n",
        "\n",
        "        print(f'Valid -> Epoch: {epoch}, Loss: {epoch_loss}, Accuracy: {epoch_acc}')\n",
        "        print('\\n ==================================================================== \\n')\n",
        "        return epoch_acc"
      ],
      "execution_count": 120,
      "outputs": []
    },
    {
      "cell_type": "code",
      "metadata": {
        "id": "uY7BDaxlKXFE",
        "colab_type": "code",
        "colab": {
          "base_uri": "https://localhost:8080/",
          "height": 1000
        },
        "outputId": "6ccf9fe1-de47-480a-b0ec-a28e924099ba"
      },
      "source": [
        "import copy\n",
        "best_model_wts = copy.deepcopy(model.state_dict())\n",
        "best_acc = 0.0\n",
        "\n",
        "for epoch in range(EPOCHS):\n",
        "    train(epoch)\n",
        "    epoch_acc = validation(epoch)\n",
        "    if epoch_acc > best_acc:\n",
        "        best_acc = epoch_acc\n",
        "        best_model_wts = copy.deepcopy(model.state_dict())\n",
        "\n",
        "model.load_state_dict(best_model_wts)\n",
        "print(f'Best Valid Acc: {best_acc}')"
      ],
      "execution_count": null,
      "outputs": [
        {
          "output_type": "stream",
          "text": [
            "Train -> Epoch: 0, Loss: 0.02732998393184971, Accuracy: 0.2196044921875\n",
            "Valid -> Epoch: 0, Loss: 0.05356467189267278, Accuracy: 0.25927734375\n",
            "\n",
            " ==================================================================== \n",
            "\n",
            "Train -> Epoch: 1, Loss: 0.026572294023935683, Accuracy: 0.2647705078125\n",
            "Valid -> Epoch: 1, Loss: 0.052947554213460535, Accuracy: 0.26953125\n",
            "\n",
            " ==================================================================== \n",
            "\n",
            "Train -> Epoch: 2, Loss: 0.025991988455643877, Accuracy: 0.2901611328125\n",
            "Valid -> Epoch: 2, Loss: 0.05258731753565371, Accuracy: 0.26513671875\n",
            "\n",
            " ==================================================================== \n",
            "\n",
            "Train -> Epoch: 3, Loss: 0.02520090561301913, Accuracy: 0.330322265625\n",
            "Valid -> Epoch: 3, Loss: 0.0525475979084149, Accuracy: 0.26171875\n",
            "\n",
            " ==================================================================== \n",
            "\n",
            "Train -> Epoch: 4, Loss: 0.024354281689738855, Accuracy: 0.359130859375\n",
            "Valid -> Epoch: 4, Loss: 0.053016281861346215, Accuracy: 0.267578125\n",
            "\n",
            " ==================================================================== \n",
            "\n",
            "Train -> Epoch: 5, Loss: 0.023395030584651977, Accuracy: 0.4012451171875\n",
            "Valid -> Epoch: 5, Loss: 0.05351278459420428, Accuracy: 0.26416015625\n",
            "\n",
            " ==================================================================== \n",
            "\n",
            "Train -> Epoch: 6, Loss: 0.022352007712470368, Accuracy: 0.43896484375\n",
            "Valid -> Epoch: 6, Loss: 0.0545324407867156, Accuracy: 0.255859375\n",
            "\n",
            " ==================================================================== \n",
            "\n",
            "Train -> Epoch: 7, Loss: 0.021191922132857144, Accuracy: 0.4757080078125\n",
            "Valid -> Epoch: 7, Loss: 0.056000872515141964, Accuracy: 0.259765625\n",
            "\n",
            " ==================================================================== \n",
            "\n",
            "Train -> Epoch: 8, Loss: 0.020146234819549136, Accuracy: 0.513427734375\n",
            "Valid -> Epoch: 8, Loss: 0.05697656120173633, Accuracy: 0.25439453125\n",
            "\n",
            " ==================================================================== \n",
            "\n",
            "Train -> Epoch: 9, Loss: 0.018970103148603812, Accuracy: 0.545166015625\n",
            "Valid -> Epoch: 9, Loss: 0.0585278159705922, Accuracy: 0.25146484375\n",
            "\n",
            " ==================================================================== \n",
            "\n",
            "Train -> Epoch: 10, Loss: 0.0179257206764305, Accuracy: 0.579833984375\n",
            "Valid -> Epoch: 10, Loss: 0.06032869388582185, Accuracy: 0.24755859375\n",
            "\n",
            " ==================================================================== \n",
            "\n",
            "Train -> Epoch: 11, Loss: 0.016835014495882206, Accuracy: 0.610595703125\n",
            "Valid -> Epoch: 11, Loss: 0.06233767088269815, Accuracy: 0.24267578125\n",
            "\n",
            " ==================================================================== \n",
            "\n",
            "Train -> Epoch: 12, Loss: 0.01572139643394621, Accuracy: 0.638427734375\n",
            "Valid -> Epoch: 12, Loss: 0.0643530982779339, Accuracy: 0.2431640625\n",
            "\n",
            " ==================================================================== \n",
            "\n",
            "Train -> Epoch: 13, Loss: 0.01476028857723577, Accuracy: 0.6671142578125\n",
            "Valid -> Epoch: 13, Loss: 0.0659009573282674, Accuracy: 0.24462890625\n",
            "\n",
            " ==================================================================== \n",
            "\n",
            "Train -> Epoch: 14, Loss: 0.013772673584753647, Accuracy: 0.6956787109375\n",
            "Valid -> Epoch: 14, Loss: 0.067956913204398, Accuracy: 0.2412109375\n",
            "\n",
            " ==================================================================== \n",
            "\n",
            "Train -> Epoch: 15, Loss: 0.012858929534559138, Accuracy: 0.7156982421875\n"
          ],
          "name": "stdout"
        }
      ]
    },
    {
      "cell_type": "markdown",
      "metadata": {
        "id": "rOH3vAwpTixw",
        "colab_type": "text"
      },
      "source": [
        "### Test"
      ]
    },
    {
      "cell_type": "code",
      "metadata": {
        "id": "mKG3PihHo8di",
        "colab_type": "code",
        "colab": {}
      },
      "source": [
        "df_test = pd.read_csv('Test.csv')\n",
        "df_test['Labels'] = 0"
      ],
      "execution_count": 92,
      "outputs": []
    },
    {
      "cell_type": "code",
      "metadata": {
        "id": "lthVYp5C8ucF",
        "colab_type": "code",
        "colab": {}
      },
      "source": [
        "df_test['Text_Tag'] = df_test.Text_Tag.str.replace(\",\", \" \")"
      ],
      "execution_count": 93,
      "outputs": []
    },
    {
      "cell_type": "code",
      "metadata": {
        "id": "xpUCeLNf9C46",
        "colab_type": "code",
        "colab": {
          "base_uri": "https://localhost:8080/",
          "height": 70
        },
        "outputId": "669aad09-6ac9-4206-f9e4-c6ee2effddc2"
      },
      "source": [
        "df_test['length'] = df_test.Text.apply(leng_txt)\n",
        "df_test.length.quantile(0.95)"
      ],
      "execution_count": null,
      "outputs": [
        {
          "output_type": "stream",
          "text": [
            "Token indices sequence length is longer than the specified maximum sequence length for this model (681 > 512). Running this sequence through the model will result in indexing errors\n"
          ],
          "name": "stderr"
        },
        {
          "output_type": "execute_result",
          "data": {
            "text/plain": [
              "41.0"
            ]
          },
          "metadata": {
            "tags": []
          },
          "execution_count": 155
        }
      ]
    },
    {
      "cell_type": "code",
      "metadata": {
        "id": "eNLUsCtwpB0l",
        "colab_type": "code",
        "colab": {}
      },
      "source": [
        "testing_set = CustomDataset(df_test, tokenizer, MAX_LEN)\n",
        "TEST_BATCH_SIZE = 32\n",
        "test_params = {'batch_size': TEST_BATCH_SIZE,\n",
        "                'shuffle': False,\n",
        "                'num_workers': 4\n",
        "                }\n",
        "testing_loader = DataLoader(testing_set, **test_params)"
      ],
      "execution_count": 94,
      "outputs": []
    },
    {
      "cell_type": "code",
      "metadata": {
        "id": "RfXBU_0nnOg_",
        "colab_type": "code",
        "colab": {}
      },
      "source": [
        "proba = torch.nn.Softmax(dim=1)\n",
        "\n",
        "def test():\n",
        "    model.eval()\n",
        "    prediction = []\n",
        "\n",
        "    with torch.no_grad():\n",
        "        for i, data in enumerate(testing_loader, 0):\n",
        "            ids = data['ids'].to(device, dtype = torch.long)\n",
        "            mask = data['mask'].to(device, dtype = torch.long)\n",
        "            token_type_ids = data['token_type_ids'].to(device, dtype = torch.long)\n",
        "            #targets = data['targets'].to(device, dtype = torch.long)\n",
        "\n",
        "            #outputs = model(ids, mask, token_type_ids)\n",
        "            outputs = model(ids, mask)\n",
        "            outputs = proba(outputs[0])\n",
        "            outputs = outputs.detach().cpu().numpy()\n",
        "            prediction.append(outputs)\n",
        "        return prediction"
      ],
      "execution_count": 95,
      "outputs": []
    },
    {
      "cell_type": "code",
      "metadata": {
        "id": "QYCwm5xi5mrm",
        "colab_type": "code",
        "colab": {}
      },
      "source": [
        "tmp = test()"
      ],
      "execution_count": 96,
      "outputs": []
    },
    {
      "cell_type": "code",
      "metadata": {
        "id": "eqBaQXsU8cSV",
        "colab_type": "code",
        "colab": {}
      },
      "source": [
        "submit = pd.DataFrame(np.vstack(tmp))"
      ],
      "execution_count": 97,
      "outputs": []
    },
    {
      "cell_type": "code",
      "metadata": {
        "id": "bvTTRvWG-Kcu",
        "colab_type": "code",
        "colab": {}
      },
      "source": [
        "submit.to_csv('submit.csv', index=False)"
      ],
      "execution_count": 98,
      "outputs": []
    },
    {
      "cell_type": "markdown",
      "metadata": {
        "id": "S2c2pFbfO6MM",
        "colab_type": "text"
      },
      "source": [
        "## BERT as Feautre Extractor"
      ]
    },
    {
      "cell_type": "code",
      "metadata": {
        "id": "BxW4YM9_NQwY",
        "colab_type": "code",
        "colab": {}
      },
      "source": [
        "from transformers import BertModel"
      ],
      "execution_count": null,
      "outputs": []
    },
    {
      "cell_type": "code",
      "metadata": {
        "colab_type": "code",
        "id": "2nJi6Nw5Rdon",
        "colab": {
          "base_uri": "https://localhost:8080/",
          "height": 67
        },
        "outputId": "7e0baaa9-9c15-4560-e49d-70f61f329a14"
      },
      "source": [
        "train_size = 1\n",
        "train_dataset=df.sample(frac=train_size,random_state=648)\n",
        "train_dataset = train_dataset.reset_index(drop=True)\n",
        "\n",
        "\n",
        "print(\"FULL Dataset: {}\".format(df.shape))\n",
        "print(\"TRAIN Dataset: {}\".format(train_dataset.shape))\n",
        "\n",
        "training_set = CustomDataset(train_dataset, tokenizer, MAX_LEN)"
      ],
      "execution_count": null,
      "outputs": [
        {
          "output_type": "stream",
          "text": [
            "FULL Dataset: (10240, 3)\n",
            "TRAIN Dataset: (10240, 3)\n",
            "TEST Dataset: (1267, 3)\n"
          ],
          "name": "stdout"
        }
      ]
    },
    {
      "cell_type": "code",
      "metadata": {
        "colab_type": "code",
        "id": "WfqRhZIzRdoq",
        "colab": {}
      },
      "source": [
        "train_params = {'batch_size': TRAIN_BATCH_SIZE,\n",
        "                'shuffle': False,\n",
        "                'num_workers': 4\n",
        "                }\n",
        "\n",
        "train_dataloader = DataLoader(training_set, **train_params)"
      ],
      "execution_count": null,
      "outputs": []
    },
    {
      "cell_type": "code",
      "metadata": {
        "id": "XzLrVhBdSJOh",
        "colab_type": "code",
        "colab": {}
      },
      "source": [
        "Bertmodel = BertModel.from_pretrained('bert-base-uncased')\n",
        "Bertmodel.to(device)"
      ],
      "execution_count": null,
      "outputs": []
    },
    {
      "cell_type": "code",
      "metadata": {
        "id": "egrCgKB_S1dH",
        "colab_type": "code",
        "colab": {}
      },
      "source": [
        "Bertmodel.eval()\n",
        "prediction = []\n",
        "\n",
        "with torch.no_grad():\n",
        "    for i, data in enumerate(train_dataloader, 0):\n",
        "        ids = data['ids'].to(device, dtype = torch.long)\n",
        "        mask = data['mask'].to(device, dtype = torch.long)\n",
        "        token_type_ids = data['token_type_ids'].to(device, dtype = torch.long)\n",
        "\n",
        "        # Only taking pooled output i.e. [CLS] token\n",
        "        _, outputs = Bertmodel(ids, mask, token_type_ids)\n",
        "        outputs = outputs.detach().cpu().numpy()\n",
        "        prediction.append(outputs)"
      ],
      "execution_count": null,
      "outputs": []
    },
    {
      "cell_type": "code",
      "metadata": {
        "id": "fH3GWvvrVoTP",
        "colab_type": "code",
        "colab": {
          "base_uri": "https://localhost:8080/",
          "height": 33
        },
        "outputId": "c735f3c2-cf1d-43d4-ea6c-e5ff179d9016"
      },
      "source": [
        "prediction[0].shape"
      ],
      "execution_count": null,
      "outputs": [
        {
          "output_type": "execute_result",
          "data": {
            "text/plain": [
              "(64, 768)"
            ]
          },
          "metadata": {
            "tags": []
          },
          "execution_count": 32
        }
      ]
    },
    {
      "cell_type": "code",
      "metadata": {
        "id": "jSdJgXTxUrL0",
        "colab_type": "code",
        "colab": {}
      },
      "source": [
        "bert_features = np.vstack(prediction)"
      ],
      "execution_count": null,
      "outputs": []
    },
    {
      "cell_type": "code",
      "metadata": {
        "id": "hxd-ZupUV2xh",
        "colab_type": "code",
        "colab": {
          "base_uri": "https://localhost:8080/",
          "height": 33
        },
        "outputId": "d7c9e638-a6d3-4a2c-c722-a11e1f8c8ac7"
      },
      "source": [
        "bert_features.shape"
      ],
      "execution_count": null,
      "outputs": [
        {
          "output_type": "execute_result",
          "data": {
            "text/plain": [
              "(1267, 768)"
            ]
          },
          "metadata": {
            "tags": []
          },
          "execution_count": 103
        }
      ]
    },
    {
      "cell_type": "code",
      "metadata": {
        "id": "ApiyjeZhV5ev",
        "colab_type": "code",
        "colab": {
          "base_uri": "https://localhost:8080/",
          "height": 191
        },
        "outputId": "87d10b32-9120-4bf8-cb2d-f050dabe68f3"
      },
      "source": [
        "train_dataset.head()"
      ],
      "execution_count": null,
      "outputs": [
        {
          "output_type": "execute_result",
          "data": {
            "text/html": [
              "<div>\n",
              "<style scoped>\n",
              "    .dataframe tbody tr th:only-of-type {\n",
              "        vertical-align: middle;\n",
              "    }\n",
              "\n",
              "    .dataframe tbody tr th {\n",
              "        vertical-align: top;\n",
              "    }\n",
              "\n",
              "    .dataframe thead th {\n",
              "        text-align: right;\n",
              "    }\n",
              "</style>\n",
              "<table border=\"1\" class=\"dataframe\">\n",
              "  <thead>\n",
              "    <tr style=\"text-align: right;\">\n",
              "      <th></th>\n",
              "      <th>Labels</th>\n",
              "      <th>Text</th>\n",
              "      <th>Text_Tag</th>\n",
              "    </tr>\n",
              "  </thead>\n",
              "  <tbody>\n",
              "    <tr>\n",
              "      <th>0</th>\n",
              "      <td>0</td>\n",
              "      <td>Congress decision to spend less around the wor...</td>\n",
              "      <td>congress federal-budget foreign-policy</td>\n",
              "    </tr>\n",
              "    <tr>\n",
              "      <th>1</th>\n",
              "      <td>0</td>\n",
              "      <td>As a result of Chris Sununus vote against a Pl...</td>\n",
              "      <td>abortion health-care voting-record</td>\n",
              "    </tr>\n",
              "    <tr>\n",
              "      <th>2</th>\n",
              "      <td>5</td>\n",
              "      <td>Says ending the direct payment farm subsidy pr...</td>\n",
              "      <td>agriculture federal-budget</td>\n",
              "    </tr>\n",
              "    <tr>\n",
              "      <th>3</th>\n",
              "      <td>3</td>\n",
              "      <td>Im also the only lieutenant governor to not ta...</td>\n",
              "      <td>state-budget</td>\n",
              "    </tr>\n",
              "    <tr>\n",
              "      <th>4</th>\n",
              "      <td>0</td>\n",
              "      <td>President Ronald Reagan sent troops into confl...</td>\n",
              "      <td>foreign-policy history military</td>\n",
              "    </tr>\n",
              "  </tbody>\n",
              "</table>\n",
              "</div>"
            ],
            "text/plain": [
              "   Labels  ...                                Text_Tag\n",
              "0       0  ...  congress federal-budget foreign-policy\n",
              "1       0  ...      abortion health-care voting-record\n",
              "2       5  ...              agriculture federal-budget\n",
              "3       3  ...                            state-budget\n",
              "4       0  ...         foreign-policy history military\n",
              "\n",
              "[5 rows x 3 columns]"
            ]
          },
          "metadata": {
            "tags": []
          },
          "execution_count": 36
        }
      ]
    },
    {
      "cell_type": "markdown",
      "metadata": {
        "id": "6f9nnieTVfZm",
        "colab_type": "text"
      },
      "source": [
        "### TF - IDF for TEXT_TAG column"
      ]
    },
    {
      "cell_type": "code",
      "metadata": {
        "id": "FiHIK3cqWnik",
        "colab_type": "code",
        "colab": {}
      },
      "source": [
        "corpus = train_dataset.Text_Tag.values"
      ],
      "execution_count": null,
      "outputs": []
    },
    {
      "cell_type": "code",
      "metadata": {
        "id": "xg_JlcmrWvQT",
        "colab_type": "code",
        "colab": {}
      },
      "source": [
        "from sklearn.feature_extraction.text import TfidfVectorizer"
      ],
      "execution_count": null,
      "outputs": []
    },
    {
      "cell_type": "code",
      "metadata": {
        "id": "l3Zp4ZHKWzrU",
        "colab_type": "code",
        "colab": {
          "base_uri": "https://localhost:8080/",
          "height": 33
        },
        "outputId": "2a3446af-fac9-40e5-bbb4-34a39c119b4b"
      },
      "source": [
        "vectorizer = TfidfVectorizer(stop_words='english')\n",
        "tf_idf = vectorizer.fit_transform(corpus)\n",
        "#print(vectorizer.get_feature_names())\n",
        "print(tf_idf.shape)"
      ],
      "execution_count": null,
      "outputs": [
        {
          "output_type": "stream",
          "text": [
            "(10240, 176)\n"
          ],
          "name": "stdout"
        }
      ]
    },
    {
      "cell_type": "code",
      "metadata": {
        "id": "cYXm54bZYEBQ",
        "colab_type": "code",
        "colab": {}
      },
      "source": [
        "tf_idf = tf_idf.toarray()"
      ],
      "execution_count": null,
      "outputs": []
    },
    {
      "cell_type": "code",
      "metadata": {
        "id": "9AfhiCW8W7pg",
        "colab_type": "code",
        "colab": {
          "base_uri": "https://localhost:8080/",
          "height": 33
        },
        "outputId": "227745b2-65c1-4750-dd30-15d59d0af56d"
      },
      "source": [
        "X = np.concatenate((bert_features, tf_idf), axis=1)\n",
        "X.shape"
      ],
      "execution_count": null,
      "outputs": [
        {
          "output_type": "execute_result",
          "data": {
            "text/plain": [
              "(10240, 944)"
            ]
          },
          "metadata": {
            "tags": []
          },
          "execution_count": 82
        }
      ]
    },
    {
      "cell_type": "code",
      "metadata": {
        "id": "_lr2BNRzYwPx",
        "colab_type": "code",
        "colab": {
          "base_uri": "https://localhost:8080/",
          "height": 33
        },
        "outputId": "e2cbf6fe-a921-4618-8023-b5f48e0e6718"
      },
      "source": [
        "y = train_dataset.Labels.values\n",
        "y.shape"
      ],
      "execution_count": null,
      "outputs": [
        {
          "output_type": "execute_result",
          "data": {
            "text/plain": [
              "(10240,)"
            ]
          },
          "metadata": {
            "tags": []
          },
          "execution_count": 83
        }
      ]
    },
    {
      "cell_type": "code",
      "metadata": {
        "id": "Uf49zYpCYzJc",
        "colab_type": "code",
        "colab": {}
      },
      "source": [
        "from sklearn.model_selection import train_test_split\n",
        "X_train, X_test, y_train, y_test = train_test_split(X, y, test_size=0.2)"
      ],
      "execution_count": null,
      "outputs": []
    },
    {
      "cell_type": "code",
      "metadata": {
        "id": "edqMzno9ZfFV",
        "colab_type": "code",
        "colab": {}
      },
      "source": [
        "from keras.layers import Dense, Dropout\n",
        "from keras.models import Sequential\n",
        "from keras.utils import np_utils"
      ],
      "execution_count": null,
      "outputs": []
    },
    {
      "cell_type": "code",
      "metadata": {
        "id": "s1X8yv-8aRYY",
        "colab_type": "code",
        "colab": {
          "base_uri": "https://localhost:8080/",
          "height": 50
        },
        "outputId": "221e7d40-0364-4fa8-e833-83231719763e"
      },
      "source": [
        "# one-hot encoding using keras' numpy-related utilities\n",
        "n_classes = 6\n",
        "print(\"Shape before one-hot encoding: \", y_train.shape)\n",
        "y_train = np_utils.to_categorical(y_train, n_classes)\n",
        "y_test = np_utils.to_categorical(y_test, n_classes)\n",
        "print(\"Shape after one-hot encoding: \", y_train.shape)"
      ],
      "execution_count": null,
      "outputs": [
        {
          "output_type": "stream",
          "text": [
            "Shape before one-hot encoding:  (8192,)\n",
            "Shape after one-hot encoding:  (8192, 6)\n"
          ],
          "name": "stdout"
        }
      ]
    },
    {
      "cell_type": "code",
      "metadata": {
        "id": "Hq-2nQqBahlG",
        "colab_type": "code",
        "colab": {}
      },
      "source": [
        "model = Sequential()\n",
        "model.add(Dense(1024, input_shape=(944,), activation='relu'))\n",
        "model.add(Dropout(0.4))\n",
        "# output layer\n",
        "model.add(Dense(6, activation='softmax'))\n",
        "\n",
        "model.compile(optimizer='adam',\n",
        "              loss='categorical_crossentropy',\n",
        "              metrics=['accuracy'])"
      ],
      "execution_count": null,
      "outputs": []
    },
    {
      "cell_type": "code",
      "metadata": {
        "id": "ka4AFr2mcm7d",
        "colab_type": "code",
        "colab": {
          "base_uri": "https://localhost:8080/",
          "height": 250
        },
        "outputId": "29047d11-925f-4bbf-a165-c28fdb62828f"
      },
      "source": [
        "model.summary()"
      ],
      "execution_count": null,
      "outputs": [
        {
          "output_type": "stream",
          "text": [
            "Model: \"sequential_9\"\n",
            "_________________________________________________________________\n",
            "Layer (type)                 Output Shape              Param #   \n",
            "=================================================================\n",
            "dense_30 (Dense)             (None, 1024)              967680    \n",
            "_________________________________________________________________\n",
            "dropout_21 (Dropout)         (None, 1024)              0         \n",
            "_________________________________________________________________\n",
            "dense_31 (Dense)             (None, 6)                 6150      \n",
            "=================================================================\n",
            "Total params: 973,830\n",
            "Trainable params: 973,830\n",
            "Non-trainable params: 0\n",
            "_________________________________________________________________\n"
          ],
          "name": "stdout"
        }
      ]
    },
    {
      "cell_type": "code",
      "metadata": {
        "id": "eyuQNB3-dWja",
        "colab_type": "code",
        "colab": {}
      },
      "source": [
        "import matplotlib.pyplot as plt\n",
        "\n",
        "\n",
        "def plot_hist(hist):\n",
        "    plt.plot(hist.history[\"accuracy\"])\n",
        "    plt.plot(hist.history[\"val_accuracy\"])\n",
        "    plt.title(\"model accuracy\")\n",
        "    plt.ylabel(\"accuracy\")\n",
        "    plt.xlabel(\"epoch\")\n",
        "    plt.legend([\"train\", \"validation\"], loc=\"upper left\")\n",
        "    plt.show()"
      ],
      "execution_count": null,
      "outputs": []
    },
    {
      "cell_type": "code",
      "metadata": {
        "id": "uXByUXBTcpCl",
        "colab_type": "code",
        "colab": {}
      },
      "source": [
        "hist = model.fit(X_train, y_train,\n",
        "                 batch_size=128,\n",
        "                 epochs=500,\n",
        "                 validation_data=(X_test, y_test),\n",
        "                 )\n",
        "plot_hist(hist)"
      ],
      "execution_count": null,
      "outputs": []
    },
    {
      "cell_type": "markdown",
      "metadata": {
        "id": "6F2WqGxaVuXt",
        "colab_type": "text"
      },
      "source": [
        "### Test"
      ]
    },
    {
      "cell_type": "code",
      "metadata": {
        "colab_type": "code",
        "id": "xgiCn71GWzEH",
        "colab": {}
      },
      "source": [
        "df_test = pd.read_csv('Test.csv')\n",
        "df_test['Labels'] = 0"
      ],
      "execution_count": null,
      "outputs": []
    },
    {
      "cell_type": "code",
      "metadata": {
        "colab_type": "code",
        "id": "8nwVJ46tWzEM",
        "colab": {}
      },
      "source": [
        "df_test['Text_Tag'] = df_test.Text_Tag.str.replace(\",\", \" \")"
      ],
      "execution_count": null,
      "outputs": []
    },
    {
      "cell_type": "code",
      "metadata": {
        "id": "b1inZcWjh3HH",
        "colab_type": "code",
        "colab": {
          "base_uri": "https://localhost:8080/",
          "height": 33
        },
        "outputId": "e331ceeb-d9e5-49b8-aec6-f09237fa1eb7"
      },
      "source": [
        "tf_idf_test = vectorizer.transform(df_test.Text_Tag.values)\n",
        "print(tf_idf_test.shape)\n",
        "tf_idf_test = tf_idf_test.toarray()"
      ],
      "execution_count": null,
      "outputs": [
        {
          "output_type": "stream",
          "text": [
            "(1267, 176)\n"
          ],
          "name": "stdout"
        }
      ]
    },
    {
      "cell_type": "code",
      "metadata": {
        "id": "2V1OjYJNWXJO",
        "colab_type": "code",
        "colab": {}
      },
      "source": [
        "testing_set = CustomDataset(df_test, tokenizer, MAX_LEN)\n",
        "print(\"TEST Dataset: {}\".format(df_test.shape))"
      ],
      "execution_count": null,
      "outputs": []
    },
    {
      "cell_type": "code",
      "metadata": {
        "id": "nw-x-DOfXdux",
        "colab_type": "code",
        "colab": {}
      },
      "source": [
        "test_params = {'batch_size': VALID_BATCH_SIZE,\n",
        "                'shuffle': False,\n",
        "                'num_workers': 4\n",
        "                }\n",
        "\n",
        "test_dataloader = DataLoader(testing_set, **test_params)"
      ],
      "execution_count": null,
      "outputs": []
    },
    {
      "cell_type": "code",
      "metadata": {
        "colab_type": "code",
        "id": "JEw-rntLWXb1",
        "colab": {}
      },
      "source": [
        "Bertmodel.eval()\n",
        "prediction = []\n",
        "\n",
        "with torch.no_grad():\n",
        "    for i, data in enumerate(test_dataloader, 0):\n",
        "        ids = data['ids'].to(device, dtype = torch.long)\n",
        "        mask = data['mask'].to(device, dtype = torch.long)\n",
        "        token_type_ids = data['token_type_ids'].to(device, dtype = torch.long)\n",
        "\n",
        "        # Only taking pooled output i.e. [CLS] token\n",
        "        _, outputs = Bertmodel(ids, mask, token_type_ids)\n",
        "        outputs = outputs.detach().cpu().numpy()\n",
        "        prediction.append(outputs)"
      ],
      "execution_count": null,
      "outputs": []
    },
    {
      "cell_type": "code",
      "metadata": {
        "colab_type": "code",
        "id": "uqJDk2EsWgII",
        "colab": {}
      },
      "source": [
        "bert_features = np.vstack(prediction)"
      ],
      "execution_count": null,
      "outputs": []
    },
    {
      "cell_type": "code",
      "metadata": {
        "colab_type": "code",
        "id": "tK7gip9QWgIM",
        "colab": {
          "base_uri": "https://localhost:8080/",
          "height": 33
        },
        "outputId": "d7c9e638-a6d3-4a2c-c722-a11e1f8c8ac7"
      },
      "source": [
        "bert_features.shape"
      ],
      "execution_count": null,
      "outputs": [
        {
          "output_type": "execute_result",
          "data": {
            "text/plain": [
              "(1267, 768)"
            ]
          },
          "metadata": {
            "tags": []
          },
          "execution_count": 103
        }
      ]
    },
    {
      "cell_type": "code",
      "metadata": {
        "id": "ZXFFaCGZifql",
        "colab_type": "code",
        "colab": {
          "base_uri": "https://localhost:8080/",
          "height": 33
        },
        "outputId": "cccab1a4-8750-4b02-e5fc-baa9292d38cd"
      },
      "source": [
        "testset = np.concatenate((bert_features, tf_idf_test), axis=1)\n",
        "testset.shape"
      ],
      "execution_count": null,
      "outputs": [
        {
          "output_type": "execute_result",
          "data": {
            "text/plain": [
              "(1267, 944)"
            ]
          },
          "metadata": {
            "tags": []
          },
          "execution_count": 108
        }
      ]
    },
    {
      "cell_type": "code",
      "metadata": {
        "id": "TPB7ZOUffAVx",
        "colab_type": "code",
        "colab": {
          "base_uri": "https://localhost:8080/",
          "height": 33
        },
        "outputId": "013a53f6-6eb7-43e8-c546-9b7aea9306e1"
      },
      "source": [
        "pred_sub = model.predict(testset)\n",
        "pred_sub.shape"
      ],
      "execution_count": null,
      "outputs": [
        {
          "output_type": "execute_result",
          "data": {
            "text/plain": [
              "(1267, 6)"
            ]
          },
          "metadata": {
            "tags": []
          },
          "execution_count": 109
        }
      ]
    },
    {
      "cell_type": "code",
      "metadata": {
        "id": "aaf1_JiVi4tt",
        "colab_type": "code",
        "colab": {}
      },
      "source": [
        "pd.DataFrame(pred_sub).to_csv('submit.csv', index=False)"
      ],
      "execution_count": null,
      "outputs": []
    },
    {
      "cell_type": "code",
      "metadata": {
        "id": "tr9GXcQojOTU",
        "colab_type": "code",
        "colab": {}
      },
      "source": [
        ""
      ],
      "execution_count": null,
      "outputs": []
    }
  ]
}